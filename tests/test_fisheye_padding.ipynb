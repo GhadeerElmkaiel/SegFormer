{
 "cells": [
  {
   "cell_type": "code",
   "execution_count": 1,
   "id": "c26f2019-6202-4aef-afe2-c7883351a08c",
   "metadata": {},
   "outputs": [
    {
     "name": "stderr",
     "output_type": "stream",
     "text": [
      "/usr/lib/python3/dist-packages/requests/__init__.py:89: RequestsDependencyWarning: urllib3 (1.26.6) or chardet (3.0.4) doesn't match a supported version!\n",
      "  warnings.warn(\"urllib3 ({}) or chardet ({}) doesn't match a supported \"\n"
     ]
    },
    {
     "data": {
      "application/vnd.jupyter.widget-view+json": {
       "model_id": "64006a66fe5d445fa0488eb8ef6ce123",
       "version_major": 2,
       "version_minor": 0
      },
      "text/plain": [
       "Canvas(toolbar=Toolbar(toolitems=[('Home', 'Reset original view', 'home', 'home'), ('Back', 'Back to previous …"
      ]
     },
     "metadata": {},
     "output_type": "display_data"
    },
    {
     "data": {
      "text/plain": [
       "<matplotlib.image.AxesImage at 0x7f82025b6550>"
      ]
     },
     "execution_count": 1,
     "metadata": {},
     "output_type": "execute_result"
    }
   ],
   "source": [
    "import cv2\n",
    "import numpy as np\n",
    "from matplotlib import pyplot as plt\n",
    "from PIL import Image\n",
    "\n",
    "import copy\n",
    "import os.path as osp\n",
    "\n",
    "import mmcv\n",
    "import numpy as np\n",
    "import pytest\n",
    "from mmcv.utils import build_from_cfg\n",
    "from PIL import Image\n",
    "\n",
    "from mmseg.datasets.builder import PIPELINES\n",
    "\n",
    "%matplotlib widget \n",
    "\n",
    "PATH_TO_IMAGE = \"/home/n_stolyarov/HDD/Datasets/SberMerged/test/images_fisheye/1.png\"\n",
    "PATH_TO_SEG = \"/home/n_stolyarov/HDD/Datasets/SberMerged/test/Semantic_fisheye/1.png\"\n",
    "\n",
    "\n",
    "transform = dict(type='RandomFisheyeShift', prob=1, max_dx = 100, max_dy = 100)\n",
    "shift = build_from_cfg(transform, PIPELINES)\n",
    "img = mmcv.imread(PATH_TO_IMAGE, 'color')\n",
    "results = dict()\n",
    "original_img = copy.deepcopy(img)\n",
    "results['img'] = img\n",
    "seg = np.array(Image.open(PATH_TO_SEG))\n",
    "original_seg = copy.deepcopy(seg)\n",
    "results['gt_semantic_seg'] = seg\n",
    "results['seg_fields'] = ['gt_semantic_seg']\n",
    "results['img_shape'] = img.shape\n",
    "results['ori_shape'] = img.shape\n",
    "results['pad_shape'] = img.shape\n",
    "results['scale_factor'] = 1.0\n",
    "results['fisheye_bbox'] = [[71, 124], [1370, 1316]]\n",
    "results = shift(results)\n",
    "\n",
    "orig_img = cv2.cvtColor(original_img, cv2.COLOR_BGR2RGB)\n",
    "new_img = cv2.cvtColor(results['img'], cv2.COLOR_BGR2RGB)\n",
    "plt.figure(\"Test shift transform\", (14, 14))\n",
    "plt.subplot(2,2,1)\n",
    "plt.imshow(orig_img)\n",
    "plt.subplot(2,2,2)\n",
    "plt.imshow(original_seg)\n",
    "plt.subplot(2,2,3)\n",
    "plt.imshow(new_img)\n",
    "plt.subplot(2,2,4)\n",
    "plt.imshow(results['gt_semantic_seg'])"
   ]
  },
  {
   "cell_type": "code",
   "execution_count": 2,
   "id": "86f621b0-8545-42d3-a609-609609a06e6e",
   "metadata": {},
   "outputs": [
    {
     "data": {
      "application/vnd.jupyter.widget-view+json": {
       "model_id": "ff31e7b90d294415ad3b7e5e1dd96a85",
       "version_major": 2,
       "version_minor": 0
      },
      "text/plain": [
       "Canvas(toolbar=Toolbar(toolitems=[('Home', 'Reset original view', 'home', 'home'), ('Back', 'Back to previous …"
      ]
     },
     "metadata": {},
     "output_type": "display_data"
    },
    {
     "data": {
      "text/plain": [
       "<matplotlib.image.AxesImage at 0x7f82024ab910>"
      ]
     },
     "execution_count": 2,
     "metadata": {},
     "output_type": "execute_result"
    }
   ],
   "source": [
    "transform = dict(type='RandomFisheyeCrop', prob=1, part_x_range=(1.2, 2), part_y_range=(0.8, 0.8), dx_)\n",
    "crop = build_from_cfg(transform, PIPELINES)\n",
    "results = crop(results)\n",
    "\n",
    "orig_img = cv2.cvtColor(original_img, cv2.COLOR_BGR2RGB)\n",
    "new_img = cv2.cvtColor(results['img'], cv2.COLOR_BGR2RGB)\n",
    "plt.figure(\"Test crop transform\", (14, 14))\n",
    "plt.subplot(2,2,1)\n",
    "plt.imshow(orig_img)\n",
    "plt.subplot(2,2,2)\n",
    "plt.imshow(original_seg)\n",
    "plt.subplot(2,2,3)\n",
    "plt.imshow(new_img)\n",
    "plt.subplot(2,2,4)\n",
    "plt.imshow(results['gt_semantic_seg'])"
   ]
  },
  {
   "cell_type": "code",
   "execution_count": null,
   "id": "9aaf0f63-b2ac-4fec-a07e-ab86aaa5363b",
   "metadata": {},
   "outputs": [],
   "source": []
  },
  {
   "cell_type": "code",
   "execution_count": null,
   "id": "ab70d70b-8623-4063-83b7-b0ba247a8571",
   "metadata": {},
   "outputs": [],
   "source": []
  }
 ],
 "metadata": {
  "kernelspec": {
   "display_name": "Python 3",
   "language": "python",
   "name": "python3"
  },
  "language_info": {
   "codemirror_mode": {
    "name": "ipython",
    "version": 3
   },
   "file_extension": ".py",
   "mimetype": "text/x-python",
   "name": "python",
   "nbconvert_exporter": "python",
   "pygments_lexer": "ipython3",
   "version": "3.8.10"
  }
 },
 "nbformat": 4,
 "nbformat_minor": 5
}
