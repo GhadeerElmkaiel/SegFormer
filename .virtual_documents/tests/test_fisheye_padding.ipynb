import cv2
import numpy as np
from matplotlib import pyplot as plt
from PIL import Image

import copy
import os.path as osp

import mmcv
import numpy as np
import pytest
from mmcv.utils import build_from_cfg
from PIL import Image

from mmseg.datasets.builder import PIPELINES

get_ipython().run_line_magic("matplotlib", " widget ")

PATH_TO_IMAGE = "/home/n_stolyarov/HDD/Datasets/SberMerged/test/images_fisheye/1.png"
PATH_TO_SEG = "/home/n_stolyarov/HDD/Datasets/SberMerged/test/Semantic_fisheye/1.png"


transform = dict(type='RandomFisheyeShift', prob=1, max_dx = 100, max_dy = 100)
shift = build_from_cfg(transform, PIPELINES)
img = mmcv.imread(PATH_TO_IMAGE, 'color')
results = dict()
original_img = copy.deepcopy(img)
results['img'] = img
seg = np.array(Image.open(PATH_TO_SEG))
original_seg = copy.deepcopy(seg)
results['gt_semantic_seg'] = seg
results['seg_fields'] = ['gt_semantic_seg']
results['img_shape'] = img.shape
results['ori_shape'] = img.shape
results['pad_shape'] = img.shape
results['scale_factor'] = 1.0
results['fisheye_bbox'] = [[71, 124], [1370, 1316]]
results = shift(results)

orig_img = cv2.cvtColor(original_img, cv2.COLOR_BGR2RGB)
new_img = cv2.cvtColor(results['img'], cv2.COLOR_BGR2RGB)
plt.figure("Test shift transform", (14, 14))
plt.subplot(2,2,1)
plt.imshow(orig_img)
plt.subplot(2,2,2)
plt.imshow(original_seg)
plt.subplot(2,2,3)
plt.imshow(new_img)
plt.subplot(2,2,4)
plt.imshow(results['gt_semantic_seg'])


transform = dict(type='RandomFisheyeCrop', prob=1, part_x_range=(1.2, 2), part_y_range=(0.8, 0.8), dx_range=(100,200))
crop = build_from_cfg(transform, PIPELINES)
results = crop(results)

orig_img = cv2.cvtColor(original_img, cv2.COLOR_BGR2RGB)
new_img = cv2.cvtColor(results['img'], cv2.COLOR_BGR2RGB)
plt.figure("Test crop transform", (14, 14))
plt.subplot(2,2,1)
plt.imshow(orig_img)
plt.subplot(2,2,2)
plt.imshow(original_seg)
plt.subplot(2,2,3)
plt.imshow(new_img)
plt.subplot(2,2,4)
plt.imshow(results['gt_semantic_seg'])






