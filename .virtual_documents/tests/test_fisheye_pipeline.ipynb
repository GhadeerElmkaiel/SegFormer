import cv2
import numpy as np
from matplotlib import pyplot as plt
from PIL import Image

import copy
import os.path as osp

import mmcv
import numpy as np
import pytest
from mmcv.utils import build_from_cfg
from PIL import Image

from mmseg.datasets.builder import PIPELINES

get_ipython().run_line_magic("matplotlib", " inline")

PATH_TO_IMAGE = "/home/n_stolyarov/HDD/Datasets/SberMerged/test/images_fisheye/1.png"
PATH_TO_SEG = "/home/n_stolyarov/HDD/Datasets/SberMerged/test/Semantic_fisheye/1.png"




img_norm_cfg = dict(
    mean=[123.675, 116.28, 103.53], std=[58.395, 57.12, 57.375], to_rgb=True)
train_pipeline = [
    dict(type='LoadImageFromFile'),
    dict(type='LoadAnnotations'),
    dict(type='RandomFisheyeShift', prob=0.5, max_dx=200, max_dy=200,
         bbox=[[71, 124], [1370, 1316]]),
    dict(type='RandomFisheyeCrop', prob=0.5,
         part_x_range=(0.8, 1.2), part_y_range=(0.8, 1.2)),
    dict(type='RandomFlip', prob=0.5),
    dict(type='PhotoMetricDistortion'),
    dict(type='Normalize', **img_norm_cfg),
    dict(type='Resize', img_scale=(512, 512), keep_ratio=False)
]


results = dict()
results['img_info'] = {
    'filename': PATH_TO_IMAGE
}
results['ann_info'] = {
    'seg_map': PATH_TO_SEG
}
results['seg_fields'] = []


orig_img_transforms = []
seg_img_transforms = []
for transform_dict in train_pipeline:
    transform = build_from_cfg(transform_dict, PIPELINES)
    results = transform(results)
    if 'img' in results and 'gt_semantic_seg' in results:
        orig_img_transforms.append(copy.deepcopy(results['img']))
        seg_img_transforms.append(copy.deepcopy(results['gt_semantic_seg']))
num_img = len(orig_img_transforms)
fig, axes = plt.subplots(num_img, 2)
fig.suptitle('Test transforms')
fig.set_size_inches(20, 50)
for i, (orig, seg) in enumerate(zip(orig_img_transforms, seg_img_transforms)):
    axes[i, 0].imshow(cv2.cvtColor(orig, cv2.COLOR_BGR2RGB))
    axes[i, 1].imshow(cv2.cvtColor(seg, cv2.COLOR_BGR2RGB))
plt.show()
